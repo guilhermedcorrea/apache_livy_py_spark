{
 "cells": [
  {
   "cell_type": "code",
   "execution_count": 51,
   "metadata": {},
   "outputs": [],
   "source": [
    "from os.path import abspath\n",
    "import pyspark.sql.functions as f\n",
    "from pyspark.sql import SparkSession\n",
    "from pyspark.sql import Row\n",
    "from pyspark import SparkContext, SparkConf\n",
    "import os\n",
    "\n",
    "import warnings\n",
    "\n",
    "\"\"\"Imports das funções de chamadas das tabelas\"\"\"\n",
    "\n",
    "\n",
    "warnings.filterwarnings('ignore')\n",
    "\n",
    "warehouse_location = abspath('spark-warehouse')\n",
    "\n",
    "os.environ[\"JAVA_HOME\"] = r\"C:\\Program Files\\Java\\jdk-19\"\n",
    "os.environ[\"SPARK_HOME\"] = r\"C:\\databases_Etl\\venv\\Lib\\site-packages\\pyspark\"\n",
    "os.environ[\"HADOOP_CONF_DIR\"] = r\"C:\\spark\\spark-3.3.2-bin-hadoop3\\hadoop\"\n",
    "os.environ[\"LIVY_CONF_DIR \"] = r\"C:\\ETL\\apache-livy-0.7.1-incubating-bin\"\n",
    "\n",
    "URI_BI = 'jdbc:sqlserver://Guilherme:1433;database=BIGDATA'\n",
    "tabela='loja.Pedidos'\n",
    "\n",
    "\n",
    "conf = SparkConf()\n",
    "conf.set(\"spark.master\",\"local[*]\")\n",
    "conf.set(\"spark.executor.memory\", \"4g\")\n",
    "conf.set(\"spark.driver.memory\", \"4g\")\n",
    "conf.set(\"spark.sql.adaptive.enabled\",\"true\")\n",
    "conf.set(\"spark.sql.adaptive.localShuffleReader.enabled\",\"true\")\n",
    "conf.set(\"spark.dynamicAllocation.enabled\", \"false\")\n",
    "conf.set(\"spark.sql.adaptive.optimizeSkewsInRebalancePartitions.enabled\",\"true\")\n",
    "conf.set(\"spark.sql.adaptive.skewJoin.enabled\",\"true\")\n",
    "conf.set(\"spark.sql.statistics.size.autoUpdate.enabled\",\"true\")\n",
    "conf.set(\"spark.sql.inMemoryColumnarStorage.compressed\",\"true\")\n",
    "conf.set(\"hive.exec.dynamic.partition\", \"true\")\n",
    "conf.set(\"hive.exec.dynamic.partition.mode\", \"nonstrict\")\n",
    "conf.set(\"spark.sql.ansi.enabled\",\"true\")\n",
    "conf.set('spark.driver.extraClassPath', r\"C:\\leads\\venv\\Lib\\site-packages\\pyspark\\mssql-jdbc-9.4.0.jre11.jar\")\n",
    "conf.set('spark.executor.extraClassPath', r\"C:\\leads\\venv\\Lib\\site-packages\\pyspark\\mssql-jdbc-9.4.0.jre11.jar\")\n",
    "spark = SparkSession.builder\\\n",
    "            .config(conf=conf)\\\n",
    "            .config(\"spark.sql.warehouse.dir\", warehouse_location)\\\n",
    "            .config(\"spark.sql.catalogImplementation\", \"hive\") \\\n",
    "            .enableHiveSupport() \\\n",
    "            .getOrCreate()"
   ]
  },
  {
   "cell_type": "code",
   "execution_count": 52,
   "metadata": {},
   "outputs": [],
   "source": [
    "jdbcDF = spark.read \\\n",
    "    .format(\"jdbc\") \\\n",
    "    .option(\"url\", URI_BI) \\\n",
    "    .option('driver', 'com.microsoft.sqlserver.jdbc.SQLServerDriver')\\\n",
    "    .option(\"header\", \"true\") \\\n",
    "    .option(\"inferSchema\", \"true\") \\\n",
    "    .option(\"dbtable\", tabela) \\\n",
    "    .option(\"user\", 'sa') \\\n",
    "    .option(\"password\", '123')\\\n",
    "    .load()\n",
    "    "
   ]
  },
  {
   "cell_type": "code",
   "execution_count": 53,
   "metadata": {},
   "outputs": [
    {
     "name": "stdout",
     "output_type": "stream",
     "text": [
      "+----------+--------------+----------+-----------+-----+--------+------+------------+-----------+-------------------+-------------------+---------------+\n",
      "|cod_pedido|    referencia|quantidade|cod_produto|valor|desconto|margem|cod_endereco|cod_cliente|   data_atualizacao|        datacriacao|   statuspedido|\n",
      "+----------+--------------+----------+-----------+-----+--------+------+------------+-----------+-------------------+-------------------+---------------+\n",
      "|         1|MX-2021-117352|         7|       null| null|    null|  null|        null|       null|2021-02-09 00:00:00|2021-02-05 00:00:00| Segunda classe|\n",
      "|         2|MX-2019-164791|        14|       null| null|    null|  null|        null|       null|2019-12-09 00:00:00|2019-12-07 00:00:00|Primeira classe|\n",
      "|         3|MX-2019-124611|         6|       null| null|    null|  null|        null|       null|2019-09-07 00:00:00|2019-09-04 00:00:00| Segunda classe|\n",
      "|         4|MX-2019-135076|        12|       null| null|    null|  null|        null|       null|2019-09-16 00:00:00|2019-09-14 00:00:00| Segunda classe|\n",
      "+----------+--------------+----------+-----------+-----+--------+------+------------+-----------+-------------------+-------------------+---------------+\n",
      "only showing top 4 rows\n",
      "\n"
     ]
    }
   ],
   "source": [
    "jdbcDF.show(4)"
   ]
  },
  {
   "cell_type": "code",
   "execution_count": 54,
   "metadata": {},
   "outputs": [
    {
     "data": {
      "text/plain": [
       "{'msg': 'Rejected, Reason: requirement failed: Cannot find Livy REPL jars.'}"
      ]
     },
     "execution_count": 54,
     "metadata": {},
     "output_type": "execute_result"
    }
   ],
   "source": [
    "import json, pprint, requests, textwrap\n",
    "host = 'http://localhost:8998'\n",
    "data = {'kind': 'spark'}\n",
    "headers = {'Content-Type': 'application/json'}\n",
    "r = requests.post(host + '/sessions', data=json.dumps(data), headers=headers)\n",
    "r.json()\n",
    "\n"
   ]
  },
  {
   "cell_type": "code",
   "execution_count": 55,
   "metadata": {},
   "outputs": [
    {
     "name": "stdout",
     "output_type": "stream",
     "text": [
      "{\"from\":0,\"total\":0,\"sessions\":[]}\n"
     ]
    }
   ],
   "source": [
    "import requests\n",
    "\n",
    "url = \"http://localhost:8998/sessions\"\n",
    "\n",
    "payload={}\n",
    "headers = {\n",
    "  'X-Requested-By': 'admin'\n",
    "}\n",
    "\n",
    "response = requests.request(\"GET\", url, headers=headers, data=payload)\n",
    "\n",
    "print(response.text)\n"
   ]
  },
  {
   "cell_type": "code",
   "execution_count": 56,
   "metadata": {},
   "outputs": [
    {
     "name": "stdout",
     "output_type": "stream",
     "text": [
      "{\"msg\":\"Rejected, Reason: Duplicate session name: Some(DEV_O2OV2_O2OV2TaskExecute_20221410) for session 10\"}\n"
     ]
    }
   ],
   "source": [
    "import requests\n",
    "import json\n",
    "\n",
    "url = \"http://localhost:8998/batches\"\n",
    "\n",
    "payload = json.dumps({\n",
    "  \"file\": \"hdfs://10.250.36.25:9000/projects/O2OV2/APP_PACKAGE/DEV/O2OV2BizLibsTemp/O2OV2Platform-2.10.0-O2OV2.jar\",\n",
    "  \"className\": \"cn.com.nielsen.execute.O2OV2TaskExecute\",\n",
    "  \"args\": [\n",
    "    \"10000110\"\n",
    "  ],\n",
    "  \"jars\": [\n",
    "    \"hdfs://10.250.36.25:9000/projects/O2OV2/APP_PACKAGE/DEV/O2OV2CommonLibs/*\",\n",
    "    \"hdfs://10.250.36.25:9000/projects/O2OV2/APP_PACKAGE/DEV/O2OV2BizLibsTemp/o2ov2.common-1.0.0.jar\",\n",
    "    \"hdfs://10.250.36.25:9000/projects/O2OV2/APP_PACKAGE/DEV/O2OV2BizLibsTemp/CommonInfra-2.10.0-O2OV2.jar\",\n",
    "    \"hdfs://10.250.36.25:9000/projects/O2OV2/APP_PACKAGE/DEV/O2OV2BizLibsTemp/DataValidator-2.10.0-O2OV2.jar\"\n",
    "  ],\n",
    "  \"name\": \"DEV_O2OV2_O2OV2TaskExecute_20221410\",\n",
    "  \"driverMemory\": \"4g\",\n",
    "  \"executorMemory\": \"4g\",\n",
    "  \"numExecutors\": 7,\n",
    "  \"executorCores\": 4\n",
    "})\n",
    "headers = {\n",
    "  'X-Requested-By': 'admin',\n",
    "  'Content-Type': 'application/json'\n",
    "}\n",
    "\n",
    "response = requests.request(\"POST\", url, headers=headers, data=payload)\n",
    "\n",
    "print(response.text)\n"
   ]
  },
  {
   "cell_type": "code",
   "execution_count": 57,
   "metadata": {},
   "outputs": [
    {
     "name": "stdout",
     "output_type": "stream",
     "text": [
      "{'from': 0, 'total': 1, 'sessions': [{'id': 8, 'name': 'DEV_O2OV2_O2OV2TaskExecute_20221410', 'owner': None, 'proxyUser': None, 'state': 'dead', 'appId': None, 'appInfo': {'driverLogUrl': None, 'sparkUiUrl': None}, 'log': ['stdout: ', 'shell-init: error retrieving current directory: getcwd: cannot access parent directories: No such file or directory', 'shell-init: error retrieving current directory: getcwd: cannot access parent directories: No such file or directory', 'Error occurred during initialization of VM', 'java.lang.Error: Properties init: Could not determine current working directory.', '\\tat java.lang.System.initProperties(java.base/Native Method)', '\\tat java.lang.System.initPhase1(java.base/System.java:1948)', '\\nstderr: ']}]}\n"
     ]
    }
   ],
   "source": [
    "import requests\n",
    "\n",
    "url = \"http://localhost:8998/batches\"\n",
    "\n",
    "payload={}\n",
    "headers = {}\n",
    "\n",
    "response = requests.request(\"GET\", url, headers=headers, data=payload)\n",
    "\n",
    "print(response.json())\n"
   ]
  },
  {
   "cell_type": "code",
   "execution_count": 58,
   "metadata": {},
   "outputs": [
    {
     "name": "stdout",
     "output_type": "stream",
     "text": [
      "{\"msg\":\"Session '0' not found.\"}\n"
     ]
    }
   ],
   "source": [
    "import requests\n",
    "\n",
    "url = \"http://localhost:8998/sessions/0\"\n",
    "\n",
    "payload={}\n",
    "headers = {\n",
    "  'X-Requested-By': 'admin'\n",
    "}\n",
    "\n",
    "response = requests.request(\"DELETE\", url, headers=headers, data=payload)\n",
    "\n",
    "print(response.text)\n"
   ]
  },
  {
   "cell_type": "code",
   "execution_count": 59,
   "metadata": {},
   "outputs": [
    {
     "name": "stdout",
     "output_type": "stream",
     "text": [
      "{\"msg\":\"Rejected, Reason: requirement failed: Cannot find Livy REPL jars.\"}\n"
     ]
    }
   ],
   "source": [
    "import requests\n",
    "import json\n",
    "\n",
    "url = \"http://localhost:8998/sessions\"\n",
    "\n",
    "payload = json.dumps({\n",
    "  \"kind\": \"spark\"\n",
    "})\n",
    "headers = {\n",
    "  'X-Requested-By': 'admin',\n",
    "  'Content-Type': 'application/json'\n",
    "}\n",
    "\n",
    "response = requests.request(\"POST\", url, headers=headers, data=payload)\n",
    "\n",
    "print(response.text)\n"
   ]
  },
  {
   "cell_type": "code",
   "execution_count": 60,
   "metadata": {},
   "outputs": [
    {
     "name": "stdout",
     "output_type": "stream",
     "text": [
      "{\"from\":0,\"total\":0,\"sessions\":[]}\n"
     ]
    }
   ],
   "source": [
    "import requests\n",
    "\n",
    "url = \"http://172.22.24.52:8998/sessions\"\n",
    "\n",
    "payload={}\n",
    "headers = {\n",
    "  'X-Requested-By': 'admin'\n",
    "}\n",
    "\n",
    "response = requests.request(\"GET\", url, headers=headers, data=payload)\n",
    "\n",
    "print(response.text)\n"
   ]
  }
 ],
 "metadata": {
  "kernelspec": {
   "display_name": "venv",
   "language": "python",
   "name": "python3"
  },
  "language_info": {
   "codemirror_mode": {
    "name": "ipython",
    "version": 3
   },
   "file_extension": ".py",
   "mimetype": "text/x-python",
   "name": "python",
   "nbconvert_exporter": "python",
   "pygments_lexer": "ipython3",
   "version": "3.11.2"
  },
  "orig_nbformat": 4
 },
 "nbformat": 4,
 "nbformat_minor": 2
}
